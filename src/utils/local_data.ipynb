{
 "cells": [
  {
   "cell_type": "code",
   "execution_count": null,
   "id": "4d075a91",
   "metadata": {},
   "outputs": [],
   "source": [
    "import os\n",
    "import random\n",
    "from pathlib import Path\n",
    "import numpy as np\n",
    "import soundfile as sf\n",
    "import nlpaug.augmenter.audio as naa\n",
    "\n",
    "class AudioAugmentationPipeline:\n",
    "    def __init__(self, sr):\n",
    "        self.sr = sr\n",
    "        self.augmenters = {\n",
    "            'loudness': naa.LoudnessAug(),\n",
    "            'crop': naa.CropAug(sampling_rate=sr),\n",
    "            'mask': naa.MaskAug(sampling_rate=sr, zone=(0.0, 1.0), coverage=0.1, mask_with_noise=False, stateless=True),\n",
    "            'noise': naa.NoiseAug(),\n",
    "            'pitch': naa.PitchAug(sampling_rate=sr, factor=(2, 3)),\n",
    "            'shift': naa.ShiftAug(sampling_rate=sr),\n",
    "            'speed': naa.SpeedAug(zone=(0.0, 1.0), coverage=1.0, factor=(1.5, 1.5)),\n",
    "            'vtlp': naa.VtlpAug(sampling_rate=sr),\n",
    "        }\n",
    "\n",
    "    def augment(self, data, augmenter_name):\n",
    "        if augmenter_name not in self.augmenters:\n",
    "            raise ValueError(f\"Augmentation '{augmenter_name}' is not supported.\")\n",
    "        if len(data) < 100:\n",
    "            raise ValueError(\"Audio too short.\")\n",
    "        augmented = self.augmenters[augmenter_name].augment(data)\n",
    "        return np.array(augmented, dtype=np.float32)\n",
    "\n",
    "\n",
    "class Augmentation:\n",
    "    def __init__(self, metadata_path, output_dir, sr=16000):\n",
    "        self.metadata_path = Path(metadata_path)\n",
    "        self.output_dir = Path(output_dir)\n",
    "        self.sr = sr\n",
    "        self.pipeline = AudioAugmentationPipeline(sr=sr)\n",
    "\n",
    "        with open(metadata_path, \"r\", encoding=\"utf-8\") as f:\n",
    "            self.entries = [line.strip() for line in f if \"|\" in line]\n",
    "\n",
    "    def augment(self, percent, methods):\n",
    "        total = len(self.entries)\n",
    "        sample_count = max(1, int(total * percent / 100))\n",
    "        selected = random.sample(self.entries, sample_count)\n",
    "\n",
    "        aug_meta_path = self.output_dir / \"aug_metadata.txt\"\n",
    "        self.output_dir.mkdir(parents=True, exist_ok=True)\n",
    "\n",
    "        with open(aug_meta_path, \"w\", encoding=\"utf-8\") as meta_out:\n",
    "            for method in methods:\n",
    "                method_dir = self.output_dir / method\n",
    "                method_dir.mkdir(exist_ok=True)\n",
    "\n",
    "                for line in selected:\n",
    "                    wav_path, text = line.split(\"|\")\n",
    "                    wav_path = Path(wav_path).resolve()\n",
    "\n",
    "                    if not wav_path.exists():\n",
    "                        print(f\"Warning: file not found: {wav_path}\")\n",
    "                        continue\n",
    "\n",
    "                    # Read audio\n",
    "                    data, sr = sf.read(wav_path)\n",
    "                    if sr != self.sr:\n",
    "                        print(f\"Warning: sample rate mismatch for {wav_path}: expected {self.sr}, got {sr}\")\n",
    "\n",
    "                    # Augment audio\n",
    "                    augmented = self.pipeline.augment(data, method)\n",
    "\n",
    "                    # Fix shape for soundfile.write\n",
    "                    if augmented.ndim == 2:\n",
    "                        augmented = augmented.T\n",
    "                        if augmented.shape[1] == 1:\n",
    "                            augmented = augmented.squeeze()\n",
    "\n",
    "                    # Normalize audio to avoid silence\n",
    "                    max_val = np.max(np.abs(augmented))\n",
    "                    if max_val > 0:\n",
    "                        augmented = augmented / max_val * 0.8\n",
    "\n",
    "                    # Save new file\n",
    "                    out_filename = f\"{method}_{wav_path.name}\"\n",
    "                    out_path = method_dir / out_filename\n",
    "                    sf.write(out_path, augmented.astype(np.float32), self.sr, format=\"WAV\", subtype=\"PCM_16\")\n",
    "\n",
    "                    # Write to new metadata\n",
    "                    meta_out.write(f\"{out_path.resolve()}|{text.strip()}\\n\")\n",
    "\n",
    "                    print(f\"Augmented: {out_path}\")\n"
   ]
  },
  {
   "cell_type": "code",
   "execution_count": 22,
   "id": "7d9d59b3",
   "metadata": {},
   "outputs": [
    {
     "name": "stdout",
     "output_type": "stream",
     "text": [
      "Warning: file not found: D:\\ASR_Augmentation\\src\\utils\\recording_20250704_180312.wav\n",
      "Warning: file not found: D:\\ASR_Augmentation\\src\\utils\\recording_20250704_181425.wav\n",
      "Warning: file not found: D:\\ASR_Augmentation\\src\\utils\\recording_20250704_180352.wav\n",
      "Warning: file not found: D:\\ASR_Augmentation\\src\\utils\\recording_20250704_180312.wav\n",
      "Warning: file not found: D:\\ASR_Augmentation\\src\\utils\\recording_20250704_181425.wav\n",
      "Warning: file not found: D:\\ASR_Augmentation\\src\\utils\\recording_20250704_180352.wav\n"
     ]
    }
   ],
   "source": [
    "pipeline = Augmentation(\"metadata.txt\", \"output_of_aug\")\n",
    "pipeline.augment(10, [\"noise\", \"pitch\"])"
   ]
  },
  {
   "cell_type": "code",
   "execution_count": 48,
   "id": "c9dff0c1",
   "metadata": {},
   "outputs": [
    {
     "name": "stdout",
     "output_type": "stream",
     "text": [
      "Augmented shape before squeeze: (1, 97760)\n",
      "Augmented shape after squeeze: (97760,)\n"
     ]
    }
   ],
   "source": [
    "pipeline = AudioAugmentationPipeline(sr=16000)\n",
    "data, sr = sf.read(\"recording_20250704_180312.wav\")\n",
    "augmented = pipeline.augment(data, \"noise\")\n",
    "print(f\"Augmented shape before squeeze: {augmented.shape}\")\n",
    "augmented = augmented.squeeze()\n",
    "print(f\"Augmented shape after squeeze: {augmented.shape}\")\n",
    "sf.write(\"test_noise.wav\", augmented, sr)\n"
   ]
  },
  {
   "cell_type": "code",
   "execution_count": null,
   "id": "fc6c2bf3",
   "metadata": {},
   "outputs": [],
   "source": []
  }
 ],
 "metadata": {
  "kernelspec": {
   "display_name": "ASR_Augmentation-5HlaAoa0",
   "language": "python",
   "name": "python3"
  },
  "language_info": {
   "codemirror_mode": {
    "name": "ipython",
    "version": 3
   },
   "file_extension": ".py",
   "mimetype": "text/x-python",
   "name": "python",
   "nbconvert_exporter": "python",
   "pygments_lexer": "ipython3",
   "version": "3.10.18"
  }
 },
 "nbformat": 4,
 "nbformat_minor": 5
}
